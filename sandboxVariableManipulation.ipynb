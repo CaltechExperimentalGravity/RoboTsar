{
 "cells": [
  {
   "cell_type": "code",
   "execution_count": 159,
   "metadata": {
    "collapsed": false
   },
   "outputs": [],
   "source": [
    "from datetime import datetime\n",
    "import datetime as dt\n",
    "import pandas as pd # Tools for opening csv files\n",
    "import numpy as np\n",
    "\n",
    "from StringIO import StringIO\n",
    "import requests"
   ]
  },
  {
   "cell_type": "code",
   "execution_count": 149,
   "metadata": {
    "collapsed": true
   },
   "outputs": [],
   "source": [
    "    jchosts = pd.read_csv('jchosts.csv', header=0, index_col=False)\n",
    "    vetodates = pd.read_csv('vetodates.csv', header=0, index_col=False)"
   ]
  },
  {
   "cell_type": "code",
   "execution_count": 98,
   "metadata": {
    "collapsed": false
   },
   "outputs": [
    {
     "name": "stdout",
     "output_type": "stream",
     "text": [
      " Aidan \n"
     ]
    }
   ],
   "source": [
    "print(jchosts.people[1])"
   ]
  },
  {
   "cell_type": "code",
   "execution_count": 217,
   "metadata": {
    "collapsed": false,
    "scrolled": true
   },
   "outputs": [
    {
     "data": {
      "text/html": [
       "<div>\n",
       "<table border=\"1\" class=\"dataframe\">\n",
       "  <thead>\n",
       "    <tr style=\"text-align: right;\">\n",
       "      <th></th>\n",
       "      <th>people</th>\n",
       "      <th>email</th>\n",
       "    </tr>\n",
       "  </thead>\n",
       "  <tbody>\n",
       "    <tr>\n",
       "      <th>0</th>\n",
       "      <td>Tom Callister</td>\n",
       "      <td>callister_t@ligo.caltech.edu</td>\n",
       "    </tr>\n",
       "    <tr>\n",
       "      <th>1</th>\n",
       "      <td>Aidan</td>\n",
       "      <td>brooks_a@ligo.caltech.edu</td>\n",
       "    </tr>\n",
       "    <tr>\n",
       "      <th>2</th>\n",
       "      <td>Aaron</td>\n",
       "      <td>markowitz_a@ligo.caltech.edu</td>\n",
       "    </tr>\n",
       "    <tr>\n",
       "      <th>3</th>\n",
       "      <td>Chris</td>\n",
       "      <td>wipf@ligo.caltech.edu</td>\n",
       "    </tr>\n",
       "    <tr>\n",
       "      <th>4</th>\n",
       "      <td>Lydia</td>\n",
       "      <td>lnevin@ligo.caltech.edu</td>\n",
       "    </tr>\n",
       "    <tr>\n",
       "      <th>5</th>\n",
       "      <td>TJ</td>\n",
       "      <td>tmassing@ligo.caltech.edu</td>\n",
       "    </tr>\n",
       "    <tr>\n",
       "      <th>6</th>\n",
       "      <td>Gautam</td>\n",
       "      <td>venugopalan_g@ligo.caltech.edu</td>\n",
       "    </tr>\n",
       "    <tr>\n",
       "      <th>7</th>\n",
       "      <td>Gustafson</td>\n",
       "      <td>gustafson_e@ligo.caltech.edu</td>\n",
       "    </tr>\n",
       "    <tr>\n",
       "      <th>8</th>\n",
       "      <td>Alan</td>\n",
       "      <td>ajw@ligo.caltech.edu</td>\n",
       "    </tr>\n",
       "    <tr>\n",
       "      <th>9</th>\n",
       "      <td>Xiaoyue</td>\n",
       "      <td>xnni@caltech.edu</td>\n",
       "    </tr>\n",
       "    <tr>\n",
       "      <th>10</th>\n",
       "      <td>Brittany</td>\n",
       "      <td>bkamai@ligo.caltech.edu</td>\n",
       "    </tr>\n",
       "    <tr>\n",
       "      <th>11</th>\n",
       "      <td>Max</td>\n",
       "      <td>isi_m@ligo.caltech.edu</td>\n",
       "    </tr>\n",
       "    <tr>\n",
       "      <th>12</th>\n",
       "      <td>Gabriele</td>\n",
       "      <td>vajente_g@ligo.caltech.edu</td>\n",
       "    </tr>\n",
       "    <tr>\n",
       "      <th>13</th>\n",
       "      <td>Jamie</td>\n",
       "      <td>jrollins@ligo.caltech.edu</td>\n",
       "    </tr>\n",
       "    <tr>\n",
       "      <th>14</th>\n",
       "      <td>rana</td>\n",
       "      <td>rana@ligo.caltech.edu</td>\n",
       "    </tr>\n",
       "    <tr>\n",
       "      <th>15</th>\n",
       "      <td>Craig</td>\n",
       "      <td>ccahilla@caltech.edu</td>\n",
       "    </tr>\n",
       "    <tr>\n",
       "      <th>16</th>\n",
       "      <td>Jess</td>\n",
       "      <td>jlmciver@caltech.edu</td>\n",
       "    </tr>\n",
       "    <tr>\n",
       "      <th>17</th>\n",
       "      <td>Alastair</td>\n",
       "      <td>heptonstall_a@ligo.caltech.edu</td>\n",
       "    </tr>\n",
       "    <tr>\n",
       "      <th>18</th>\n",
       "      <td>Alex</td>\n",
       "      <td>urban_a@ligo.caltech.edu</td>\n",
       "    </tr>\n",
       "    <tr>\n",
       "      <th>19</th>\n",
       "      <td>Andrew</td>\n",
       "      <td>awade@ligo.caltech.edu</td>\n",
       "    </tr>\n",
       "    <tr>\n",
       "      <th>20</th>\n",
       "      <td>Koji</td>\n",
       "      <td>arai_k@ligo.caltech.edu</td>\n",
       "    </tr>\n",
       "    <tr>\n",
       "      <th>21</th>\n",
       "      <td>Johannes</td>\n",
       "      <td>eichholz_J@ligo.caltech.edu</td>\n",
       "    </tr>\n",
       "  </tbody>\n",
       "</table>\n",
       "</div>"
      ],
      "text/plain": [
       "           people                           email\n",
       "0   Tom Callister    callister_t@ligo.caltech.edu\n",
       "1           Aidan       brooks_a@ligo.caltech.edu\n",
       "2           Aaron    markowitz_a@ligo.caltech.edu\n",
       "3           Chris           wipf@ligo.caltech.edu\n",
       "4           Lydia         lnevin@ligo.caltech.edu\n",
       "5              TJ       tmassing@ligo.caltech.edu\n",
       "6          Gautam  venugopalan_g@ligo.caltech.edu\n",
       "7       Gustafson    gustafson_e@ligo.caltech.edu\n",
       "8            Alan            ajw@ligo.caltech.edu\n",
       "9         Xiaoyue                xnni@caltech.edu\n",
       "10       Brittany         bkamai@ligo.caltech.edu\n",
       "11            Max          isi_m@ligo.caltech.edu\n",
       "12       Gabriele      vajente_g@ligo.caltech.edu\n",
       "13          Jamie       jrollins@ligo.caltech.edu\n",
       "14           rana           rana@ligo.caltech.edu\n",
       "15          Craig            ccahilla@caltech.edu\n",
       "16           Jess            jlmciver@caltech.edu\n",
       "17       Alastair  heptonstall_a@ligo.caltech.edu\n",
       "18           Alex        urban_a@ligo.caltech.edu\n",
       "19         Andrew          awade@ligo.caltech.edu\n",
       "20           Koji         arai_k@ligo.caltech.edu\n",
       "21       Johannes     eichholz_J@ligo.caltech.edu"
      ]
     },
     "execution_count": 217,
     "metadata": {},
     "output_type": "execute_result"
    }
   ],
   "source": [
    "jchosts"
   ]
  },
  {
   "cell_type": "code",
   "execution_count": 100,
   "metadata": {
    "collapsed": false
   },
   "outputs": [
    {
     "data": {
      "text/plain": [
       "Timestamp('2017-07-04 00:00:00')"
      ]
     },
     "execution_count": 100,
     "metadata": {},
     "output_type": "execute_result"
    }
   ],
   "source": [
    "# pd.to_datetime(vetodates.values)\n",
    "# vetodates\n",
    "pd.to_datetime('2017/07/04')"
   ]
  },
  {
   "cell_type": "code",
   "execution_count": 101,
   "metadata": {
    "collapsed": false
   },
   "outputs": [
    {
     "name": "stdout",
     "output_type": "stream",
     "text": [
      "4\n"
     ]
    }
   ],
   "source": [
    "CurrentDate = datetime(2017,12,22)\n",
    "\n",
    "vetodates_DT = pd.to_datetime(vetodates.vetodate) \n",
    "NumSkips = np.sum(vetodates_DT<=CurrentDate)\n",
    "print(NumSkips)"
   ]
  },
  {
   "cell_type": "code",
   "execution_count": 56,
   "metadata": {
    "collapsed": false
   },
   "outputs": [
    {
     "data": {
      "text/plain": [
       "0     2017/07/04\n",
       "1     2017/09/04\n",
       "2     2017/11/23\n",
       "3     2017/11/24\n",
       "4     2017/12/25\n",
       "5     2017/12/26\n",
       "6     2017/12/27\n",
       "7     2017/12/28\n",
       "8     2017/12/29\n",
       "9     2018/01/01\n",
       "10    2018/01/15\n",
       "11    2018/02/19\n",
       "12    2018/05/28\n",
       "13     2018/07/4\n",
       "14     2018/09/3\n",
       "15    2018/11/22\n",
       "16    2018/11/23\n",
       "17    2018/12/24\n",
       "18    2018/12/25\n",
       "19    2018/12/26\n",
       "20    2018/12/27\n",
       "21    2018/12/28\n",
       "22    2018/12/31\n",
       "Name: vetodate, dtype: object"
      ]
     },
     "execution_count": 56,
     "metadata": {},
     "output_type": "execute_result"
    }
   ],
   "source": [
    "vetodates.vetodate"
   ]
  },
  {
   "cell_type": "code",
   "execution_count": 62,
   "metadata": {
    "collapsed": false
   },
   "outputs": [
    {
     "name": "stdout",
     "output_type": "stream",
     "text": [
      "2017-09-04 00:00:00\n"
     ]
    }
   ],
   "source": [
    "print(test[1])"
   ]
  },
  {
   "cell_type": "code",
   "execution_count": 63,
   "metadata": {
    "collapsed": false
   },
   "outputs": [
    {
     "data": {
      "text/plain": [
       "Timestamp('2017-09-04 00:00:00')"
      ]
     },
     "execution_count": 63,
     "metadata": {},
     "output_type": "execute_result"
    }
   ],
   "source": [
    "test[1]"
   ]
  },
  {
   "cell_type": "code",
   "execution_count": 76,
   "metadata": {
    "collapsed": false
   },
   "outputs": [
    {
     "name": "stdout",
     "output_type": "stream",
     "text": [
      "0      True\n",
      "1      True\n",
      "2      True\n",
      "3      True\n",
      "4      True\n",
      "5      True\n",
      "6      True\n",
      "7      True\n",
      "8      True\n",
      "9     False\n",
      "10    False\n",
      "11    False\n",
      "12    False\n",
      "13    False\n",
      "14    False\n",
      "15    False\n",
      "16    False\n",
      "17    False\n",
      "18    False\n",
      "19    False\n",
      "20    False\n",
      "21    False\n",
      "22    False\n",
      "Name: vetodate, dtype: bool\n"
     ]
    }
   ],
   "source": [
    "outtest = test<= datetime(2017,12,29)\n",
    "print(outtest)"
   ]
  },
  {
   "cell_type": "code",
   "execution_count": 107,
   "metadata": {
    "collapsed": false
   },
   "outputs": [
    {
     "name": "stdout",
     "output_type": "stream",
     "text": [
      "20\n"
     ]
    }
   ],
   "source": [
    "CurrentDate = datetime(2017,5,23) # Dummy test date\n",
    "ListStartDate = datetime(2017,1,1)\n",
    "\n",
    "ListPhase = (CurrentDate-ListStartDate).days/7\n",
    "\n",
    "print(ListPhase)\n"
   ]
  },
  {
   "cell_type": "code",
   "execution_count": 111,
   "metadata": {
    "collapsed": false
   },
   "outputs": [
    {
     "data": {
      "text/plain": [
       "6"
      ]
     },
     "execution_count": 111,
     "metadata": {},
     "output_type": "execute_result"
    }
   ],
   "source": [
    "27 % 7"
   ]
  },
  {
   "cell_type": "code",
   "execution_count": 143,
   "metadata": {
    "collapsed": false
   },
   "outputs": [
    {
     "data": {
      "text/plain": [
       "6"
      ]
     },
     "execution_count": 143,
     "metadata": {},
     "output_type": "execute_result"
    }
   ],
   "source": [
    "\"\"\"\n",
    "Find the position in the list by modulo phase\n",
    "\"\"\"\n",
    "Listphase = 27\n",
    "\n",
    "(Listphase) % (jchosts.shape[0]-1)"
   ]
  },
  {
   "cell_type": "code",
   "execution_count": 136,
   "metadata": {
    "collapsed": false
   },
   "outputs": [
    {
     "data": {
      "text/plain": [
       "6"
      ]
     },
     "execution_count": 136,
     "metadata": {},
     "output_type": "execute_result"
    }
   ],
   "source": [
    "27 % (jchosts.shape[0]-1)"
   ]
  },
  {
   "cell_type": "code",
   "execution_count": 131,
   "metadata": {
    "collapsed": false
   },
   "outputs": [
    {
     "data": {
      "text/plain": [
       "21"
      ]
     },
     "execution_count": 131,
     "metadata": {},
     "output_type": "execute_result"
    }
   ],
   "source": [
    "jchosts.shape[0]-1"
   ]
  },
  {
   "cell_type": "code",
   "execution_count": 150,
   "metadata": {
    "collapsed": false
   },
   "outputs": [
    {
     "data": {
      "text/plain": [
       "'Gustafson'"
      ]
     },
     "execution_count": 150,
     "metadata": {},
     "output_type": "execute_result"
    }
   ],
   "source": [
    "jchosts['people'][7]"
   ]
  },
  {
   "cell_type": "code",
   "execution_count": 156,
   "metadata": {
    "collapsed": false
   },
   "outputs": [
    {
     "data": {
      "text/plain": [
       "0"
      ]
     },
     "execution_count": 156,
     "metadata": {},
     "output_type": "execute_result"
    }
   ],
   "source": [
    "5%5"
   ]
  },
  {
   "cell_type": "code",
   "execution_count": 152,
   "metadata": {
    "collapsed": false
   },
   "outputs": [
    {
     "data": {
      "text/plain": [
       "529"
      ]
     },
     "execution_count": 152,
     "metadata": {},
     "output_type": "execute_result"
    }
   ],
   "source": [
    "23*23"
   ]
  },
  {
   "cell_type": "code",
   "execution_count": 176,
   "metadata": {
    "collapsed": false
   },
   "outputs": [],
   "source": []
  },
  {
   "cell_type": "code",
   "execution_count": 177,
   "metadata": {
    "collapsed": false
   },
   "outputs": [
    {
     "name": "stdout",
     "output_type": "stream",
     "text": [
      "<Response [200]>\n"
     ]
    }
   ],
   "source": [
    "print(r)"
   ]
  },
  {
   "cell_type": "code",
   "execution_count": 218,
   "metadata": {
    "collapsed": false
   },
   "outputs": [],
   "source": [
    "r = requests.get('https://docs.google.com/spreadsheets/d/1TxTmFStB9jT1xCvscr5xKY5ovuA4nme58XK4IrqI6_0/pub?gid=0&single=true&output=csv')\n",
    "\n",
    "\n",
    "data= r.text\n",
    "df = pd.read_csv(StringIO(data),index_col=0, header=0)"
   ]
  },
  {
   "cell_type": "code",
   "execution_count": 219,
   "metadata": {
    "collapsed": false
   },
   "outputs": [
    {
     "data": {
      "text/html": [
       "<div>\n",
       "<table border=\"1\" class=\"dataframe\">\n",
       "  <thead>\n",
       "    <tr style=\"text-align: right;\">\n",
       "      <th></th>\n",
       "      <th>people</th>\n",
       "      <th>email</th>\n",
       "      <th>phase</th>\n",
       "      <th>Next presenter</th>\n",
       "      <th>Following week presenter</th>\n",
       "    </tr>\n",
       "  </thead>\n",
       "  <tbody>\n",
       "    <tr>\n",
       "      <th>1</th>\n",
       "      <td>Tom Callister</td>\n",
       "      <td>callister_t@ligo.caltech.edu</td>\n",
       "      <td>3.0</td>\n",
       "      <td>Craig</td>\n",
       "      <td>Aaron</td>\n",
       "    </tr>\n",
       "    <tr>\n",
       "      <th>2</th>\n",
       "      <td>Craig</td>\n",
       "      <td>ccahilla@caltech.edu</td>\n",
       "      <td>NaN</td>\n",
       "      <td>NaN</td>\n",
       "      <td>NaN</td>\n",
       "    </tr>\n",
       "    <tr>\n",
       "      <th>3</th>\n",
       "      <td>Aaron</td>\n",
       "      <td>markowitz_a@ligo.caltech.edu</td>\n",
       "      <td>NaN</td>\n",
       "      <td>NaN</td>\n",
       "      <td>NaN</td>\n",
       "    </tr>\n",
       "    <tr>\n",
       "      <th>4</th>\n",
       "      <td>Lydia</td>\n",
       "      <td>lnevin@ligo.caltech.edu</td>\n",
       "      <td>NaN</td>\n",
       "      <td>NaN</td>\n",
       "      <td>NaN</td>\n",
       "    </tr>\n",
       "    <tr>\n",
       "      <th>5</th>\n",
       "      <td>Chris</td>\n",
       "      <td>wipf@ligo.caltech.edu</td>\n",
       "      <td>NaN</td>\n",
       "      <td>NaN</td>\n",
       "      <td>NaN</td>\n",
       "    </tr>\n",
       "    <tr>\n",
       "      <th>6</th>\n",
       "      <td>Aidan</td>\n",
       "      <td>brooks_a@ligo.caltech.edu</td>\n",
       "      <td>NaN</td>\n",
       "      <td>NaN</td>\n",
       "      <td>NaN</td>\n",
       "    </tr>\n",
       "    <tr>\n",
       "      <th>7</th>\n",
       "      <td>TJ</td>\n",
       "      <td>tmassing@ligo.caltech.edu</td>\n",
       "      <td>NaN</td>\n",
       "      <td>NaN</td>\n",
       "      <td>NaN</td>\n",
       "    </tr>\n",
       "    <tr>\n",
       "      <th>8</th>\n",
       "      <td>Gautam</td>\n",
       "      <td>venugopalan_g@ligo.caltech.edu</td>\n",
       "      <td>NaN</td>\n",
       "      <td>NaN</td>\n",
       "      <td>NaN</td>\n",
       "    </tr>\n",
       "    <tr>\n",
       "      <th>9</th>\n",
       "      <td>Gustafson</td>\n",
       "      <td>gustafson_e@ligo.caltech.edu</td>\n",
       "      <td>NaN</td>\n",
       "      <td>NaN</td>\n",
       "      <td>NaN</td>\n",
       "    </tr>\n",
       "    <tr>\n",
       "      <th>10</th>\n",
       "      <td>Alan</td>\n",
       "      <td>ajw@ligo.caltech.edu</td>\n",
       "      <td>NaN</td>\n",
       "      <td>NaN</td>\n",
       "      <td>NaN</td>\n",
       "    </tr>\n",
       "    <tr>\n",
       "      <th>11</th>\n",
       "      <td>Xiaoyue</td>\n",
       "      <td>xnni@caltech.edu</td>\n",
       "      <td>NaN</td>\n",
       "      <td>NaN</td>\n",
       "      <td>NaN</td>\n",
       "    </tr>\n",
       "    <tr>\n",
       "      <th>12</th>\n",
       "      <td>Brittany</td>\n",
       "      <td>bkamai@ligo.caltech.edu</td>\n",
       "      <td>NaN</td>\n",
       "      <td>NaN</td>\n",
       "      <td>NaN</td>\n",
       "    </tr>\n",
       "    <tr>\n",
       "      <th>13</th>\n",
       "      <td>Max</td>\n",
       "      <td>isi_m@ligo.caltech.edu</td>\n",
       "      <td>NaN</td>\n",
       "      <td>NaN</td>\n",
       "      <td>NaN</td>\n",
       "    </tr>\n",
       "    <tr>\n",
       "      <th>14</th>\n",
       "      <td>Gabriele</td>\n",
       "      <td>vajente_g@ligo.caltech.edu</td>\n",
       "      <td>NaN</td>\n",
       "      <td>NaN</td>\n",
       "      <td>NaN</td>\n",
       "    </tr>\n",
       "    <tr>\n",
       "      <th>15</th>\n",
       "      <td>Jamie</td>\n",
       "      <td>jrollins@ligo.caltech.edu</td>\n",
       "      <td>NaN</td>\n",
       "      <td>NaN</td>\n",
       "      <td>NaN</td>\n",
       "    </tr>\n",
       "    <tr>\n",
       "      <th>16</th>\n",
       "      <td>rana</td>\n",
       "      <td>rana@ligo.caltech.edu</td>\n",
       "      <td>NaN</td>\n",
       "      <td>NaN</td>\n",
       "      <td>NaN</td>\n",
       "    </tr>\n",
       "    <tr>\n",
       "      <th>17</th>\n",
       "      <td>Jess</td>\n",
       "      <td>jlmciver@caltech.edu</td>\n",
       "      <td>NaN</td>\n",
       "      <td>NaN</td>\n",
       "      <td>NaN</td>\n",
       "    </tr>\n",
       "    <tr>\n",
       "      <th>18</th>\n",
       "      <td>Alastair</td>\n",
       "      <td>heptonstall_a@ligo.caltech.edu</td>\n",
       "      <td>NaN</td>\n",
       "      <td>NaN</td>\n",
       "      <td>NaN</td>\n",
       "    </tr>\n",
       "    <tr>\n",
       "      <th>19</th>\n",
       "      <td>Alex</td>\n",
       "      <td>urban_a@ligo.caltech.edu</td>\n",
       "      <td>NaN</td>\n",
       "      <td>NaN</td>\n",
       "      <td>NaN</td>\n",
       "    </tr>\n",
       "    <tr>\n",
       "      <th>20</th>\n",
       "      <td>Andrew</td>\n",
       "      <td>awade@ligo.caltech.edu</td>\n",
       "      <td>NaN</td>\n",
       "      <td>NaN</td>\n",
       "      <td>NaN</td>\n",
       "    </tr>\n",
       "    <tr>\n",
       "      <th>21</th>\n",
       "      <td>Koji</td>\n",
       "      <td>arai_k@ligo.caltech.edu</td>\n",
       "      <td>NaN</td>\n",
       "      <td>NaN</td>\n",
       "      <td>NaN</td>\n",
       "    </tr>\n",
       "    <tr>\n",
       "      <th>22</th>\n",
       "      <td>Johannes</td>\n",
       "      <td>eichholz_J@ligo.caltech.edu</td>\n",
       "      <td>NaN</td>\n",
       "      <td>NaN</td>\n",
       "      <td>NaN</td>\n",
       "    </tr>\n",
       "  </tbody>\n",
       "</table>\n",
       "</div>"
      ],
      "text/plain": [
       "           people                           email  phase Next presenter  \\\n",
       "1   Tom Callister    callister_t@ligo.caltech.edu    3.0          Craig   \n",
       "2           Craig            ccahilla@caltech.edu    NaN            NaN   \n",
       "3           Aaron    markowitz_a@ligo.caltech.edu    NaN            NaN   \n",
       "4           Lydia         lnevin@ligo.caltech.edu    NaN            NaN   \n",
       "5           Chris           wipf@ligo.caltech.edu    NaN            NaN   \n",
       "6           Aidan       brooks_a@ligo.caltech.edu    NaN            NaN   \n",
       "7              TJ       tmassing@ligo.caltech.edu    NaN            NaN   \n",
       "8          Gautam  venugopalan_g@ligo.caltech.edu    NaN            NaN   \n",
       "9       Gustafson    gustafson_e@ligo.caltech.edu    NaN            NaN   \n",
       "10           Alan            ajw@ligo.caltech.edu    NaN            NaN   \n",
       "11        Xiaoyue                xnni@caltech.edu    NaN            NaN   \n",
       "12       Brittany         bkamai@ligo.caltech.edu    NaN            NaN   \n",
       "13            Max          isi_m@ligo.caltech.edu    NaN            NaN   \n",
       "14       Gabriele      vajente_g@ligo.caltech.edu    NaN            NaN   \n",
       "15          Jamie       jrollins@ligo.caltech.edu    NaN            NaN   \n",
       "16           rana           rana@ligo.caltech.edu    NaN            NaN   \n",
       "17           Jess            jlmciver@caltech.edu    NaN            NaN   \n",
       "18       Alastair  heptonstall_a@ligo.caltech.edu    NaN            NaN   \n",
       "19           Alex        urban_a@ligo.caltech.edu    NaN            NaN   \n",
       "20         Andrew          awade@ligo.caltech.edu    NaN            NaN   \n",
       "21           Koji         arai_k@ligo.caltech.edu    NaN            NaN   \n",
       "22       Johannes     eichholz_J@ligo.caltech.edu    NaN            NaN   \n",
       "\n",
       "   Following week presenter  \n",
       "1                     Aaron  \n",
       "2                       NaN  \n",
       "3                       NaN  \n",
       "4                       NaN  \n",
       "5                       NaN  \n",
       "6                       NaN  \n",
       "7                       NaN  \n",
       "8                       NaN  \n",
       "9                       NaN  \n",
       "10                      NaN  \n",
       "11                      NaN  \n",
       "12                      NaN  \n",
       "13                      NaN  \n",
       "14                      NaN  \n",
       "15                      NaN  \n",
       "16                      NaN  \n",
       "17                      NaN  \n",
       "18                      NaN  \n",
       "19                      NaN  \n",
       "20                      NaN  \n",
       "21                      NaN  \n",
       "22                      NaN  "
      ]
     },
     "execution_count": 219,
     "metadata": {},
     "output_type": "execute_result"
    }
   ],
   "source": [
    "df"
   ]
  },
  {
   "cell_type": "code",
   "execution_count": 192,
   "metadata": {
    "collapsed": false
   },
   "outputs": [
    {
     "data": {
      "text/plain": [
       "u'people,email,phase\\r\\nTom Callister,callister_t@ligo.caltech.edu,1\\r\\nCraig,ccahilla@caltech.edu,\\r\\nAaron,markowitz_a@ligo.caltech.edu,\\r\\nLydia,lnevin@ligo.caltech.edu,\\r\\nChris,wipf@ligo.caltech.edu,\\r\\nAidan,brooks_a@ligo.caltech.edu,\\r\\nTJ,tmassing@ligo.caltech.edu,\\r\\nGautam,venugopalan_g@ligo.caltech.edu,\\r\\nGustafson,gustafson_e@ligo.caltech.edu,\\r\\nAlan,ajw@ligo.caltech.edu,\\r\\nXiaoyue,xnni@caltech.edu,\\r\\nBrittany,bkamai@ligo.caltech.edu,\\r\\nMax,isi_m@ligo.caltech.edu,\\r\\nGabriele,vajente_g@ligo.caltech.edu,\\r\\nJamie,jrollins@ligo.caltech.edu,\\r\\nrana,rana@ligo.caltech.edu,\\r\\nJess,jlmciver@caltech.edu,\\r\\nAlastair,heptonstall_a@ligo.caltech.edu,\\r\\nAlex,urban_a@ligo.caltech.edu,\\r\\nAndrew,awade@ligo.caltech.edu,\\r\\nKoji,arai_k@ligo.caltech.edu,\\r\\nJohannes,eichholz_J@ligo.caltech.edu,'"
      ]
     },
     "execution_count": 192,
     "metadata": {},
     "output_type": "execute_result"
    }
   ],
   "source": [
    "data"
   ]
  },
  {
   "cell_type": "code",
   "execution_count": 198,
   "metadata": {
    "collapsed": false
   },
   "outputs": [
    {
     "data": {
      "text/plain": [
       "<StringIO.StringIO instance at 0x11073d710>"
      ]
     },
     "execution_count": 198,
     "metadata": {},
     "output_type": "execute_result"
    }
   ],
   "source": [
    "StringIO(data)"
   ]
  },
  {
   "cell_type": "code",
   "execution_count": 211,
   "metadata": {
    "collapsed": false
   },
   "outputs": [
    {
     "data": {
      "text/plain": [
       "0"
      ]
     },
     "execution_count": 211,
     "metadata": {},
     "output_type": "execute_result"
    }
   ],
   "source": [
    "23%23"
   ]
  },
  {
   "cell_type": "code",
   "execution_count": null,
   "metadata": {
    "collapsed": true
   },
   "outputs": [],
   "source": []
  }
 ],
 "metadata": {
  "kernelspec": {
   "display_name": "Python 2",
   "language": "python",
   "name": "python2"
  },
  "language_info": {
   "codemirror_mode": {
    "name": "ipython",
    "version": 2
   },
   "file_extension": ".py",
   "mimetype": "text/x-python",
   "name": "python",
   "nbconvert_exporter": "python",
   "pygments_lexer": "ipython2",
   "version": "2.7.13"
  }
 },
 "nbformat": 4,
 "nbformat_minor": 2
}
